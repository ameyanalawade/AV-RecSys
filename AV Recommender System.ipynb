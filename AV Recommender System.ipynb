{
 "cells": [
  {
   "cell_type": "code",
   "execution_count": 1,
   "metadata": {},
   "outputs": [
    {
     "name": "stdout",
     "output_type": "stream",
     "text": [
      "Requirement already satisfied: scikit-surprise in c:\\users\\sinamy\\appdata\\local\\continuum\\anaconda3\\lib\\site-packages (1.1.0)\n",
      "Requirement already satisfied: joblib>=0.11 in c:\\users\\sinamy\\appdata\\local\\continuum\\anaconda3\\lib\\site-packages (from scikit-surprise) (0.13.2)\n",
      "Requirement already satisfied: scipy>=1.0.0 in c:\\users\\sinamy\\appdata\\local\\continuum\\anaconda3\\lib\\site-packages (from scikit-surprise) (1.3.2)\n",
      "Requirement already satisfied: six>=1.10.0 in c:\\users\\sinamy\\appdata\\local\\continuum\\anaconda3\\lib\\site-packages (from scikit-surprise) (1.12.0)\n",
      "Requirement already satisfied: numpy>=1.11.2 in c:\\users\\sinamy\\appdata\\local\\continuum\\anaconda3\\lib\\site-packages (from scikit-surprise) (1.18.1)\n"
     ]
    }
   ],
   "source": [
    "!pip install scikit-surprise"
   ]
  },
  {
   "cell_type": "code",
   "execution_count": 1,
   "metadata": {},
   "outputs": [],
   "source": [
    "from fastai.collab import *\n",
    "from fastai.tabular import *"
   ]
  },
  {
   "cell_type": "code",
   "execution_count": 2,
   "metadata": {},
   "outputs": [],
   "source": [
    "import pandas as pd"
   ]
  },
  {
   "cell_type": "code",
   "execution_count": 3,
   "metadata": {},
   "outputs": [
    {
     "data": {
      "text/html": [
       "<div>\n",
       "<style scoped>\n",
       "    .dataframe tbody tr th:only-of-type {\n",
       "        vertical-align: middle;\n",
       "    }\n",
       "\n",
       "    .dataframe tbody tr th {\n",
       "        vertical-align: top;\n",
       "    }\n",
       "\n",
       "    .dataframe thead th {\n",
       "        text-align: right;\n",
       "    }\n",
       "</style>\n",
       "<table border=\"1\" class=\"dataframe\">\n",
       "  <thead>\n",
       "    <tr style=\"text-align: right;\">\n",
       "      <th></th>\n",
       "      <th>user_sequence</th>\n",
       "      <th>user_id</th>\n",
       "      <th>challenge_sequence</th>\n",
       "      <th>challenge</th>\n",
       "    </tr>\n",
       "  </thead>\n",
       "  <tbody>\n",
       "    <tr>\n",
       "      <th>0</th>\n",
       "      <td>4576_1</td>\n",
       "      <td>4576</td>\n",
       "      <td>1</td>\n",
       "      <td>CI23714</td>\n",
       "    </tr>\n",
       "    <tr>\n",
       "      <th>1</th>\n",
       "      <td>4576_2</td>\n",
       "      <td>4576</td>\n",
       "      <td>2</td>\n",
       "      <td>CI23855</td>\n",
       "    </tr>\n",
       "    <tr>\n",
       "      <th>2</th>\n",
       "      <td>4576_3</td>\n",
       "      <td>4576</td>\n",
       "      <td>3</td>\n",
       "      <td>CI24917</td>\n",
       "    </tr>\n",
       "    <tr>\n",
       "      <th>3</th>\n",
       "      <td>4576_4</td>\n",
       "      <td>4576</td>\n",
       "      <td>4</td>\n",
       "      <td>CI23663</td>\n",
       "    </tr>\n",
       "    <tr>\n",
       "      <th>4</th>\n",
       "      <td>4576_5</td>\n",
       "      <td>4576</td>\n",
       "      <td>5</td>\n",
       "      <td>CI23933</td>\n",
       "    </tr>\n",
       "  </tbody>\n",
       "</table>\n",
       "</div>"
      ],
      "text/plain": [
       "  user_sequence  user_id  challenge_sequence challenge\n",
       "0        4576_1     4576                   1   CI23714\n",
       "1        4576_2     4576                   2   CI23855\n",
       "2        4576_3     4576                   3   CI24917\n",
       "3        4576_4     4576                   4   CI23663\n",
       "4        4576_5     4576                   5   CI23933"
      ]
     },
     "execution_count": 3,
     "metadata": {},
     "output_type": "execute_result"
    }
   ],
   "source": [
    "df_train = pd.read_csv('train.csv')\n",
    "df_train.head()"
   ]
  },
  {
   "cell_type": "code",
   "execution_count": 4,
   "metadata": {},
   "outputs": [
    {
     "data": {
      "text/plain": [
       "(903916, 4)"
      ]
     },
     "execution_count": 4,
     "metadata": {},
     "output_type": "execute_result"
    }
   ],
   "source": [
    "df_train.shape"
   ]
  },
  {
   "cell_type": "code",
   "execution_count": 5,
   "metadata": {},
   "outputs": [
    {
     "data": {
      "text/html": [
       "<div>\n",
       "<style scoped>\n",
       "    .dataframe tbody tr th:only-of-type {\n",
       "        vertical-align: middle;\n",
       "    }\n",
       "\n",
       "    .dataframe tbody tr th {\n",
       "        vertical-align: top;\n",
       "    }\n",
       "\n",
       "    .dataframe thead th {\n",
       "        text-align: right;\n",
       "    }\n",
       "</style>\n",
       "<table border=\"1\" class=\"dataframe\">\n",
       "  <thead>\n",
       "    <tr style=\"text-align: right;\">\n",
       "      <th></th>\n",
       "      <th>user_sequence</th>\n",
       "      <th>user_id</th>\n",
       "      <th>challenge_sequence</th>\n",
       "      <th>challenge</th>\n",
       "    </tr>\n",
       "  </thead>\n",
       "  <tbody>\n",
       "    <tr>\n",
       "      <th>0</th>\n",
       "      <td>4577_1</td>\n",
       "      <td>4577</td>\n",
       "      <td>1</td>\n",
       "      <td>CI23855</td>\n",
       "    </tr>\n",
       "    <tr>\n",
       "      <th>1</th>\n",
       "      <td>4577_2</td>\n",
       "      <td>4577</td>\n",
       "      <td>2</td>\n",
       "      <td>CI23933</td>\n",
       "    </tr>\n",
       "    <tr>\n",
       "      <th>2</th>\n",
       "      <td>4577_3</td>\n",
       "      <td>4577</td>\n",
       "      <td>3</td>\n",
       "      <td>CI24917</td>\n",
       "    </tr>\n",
       "    <tr>\n",
       "      <th>3</th>\n",
       "      <td>4577_4</td>\n",
       "      <td>4577</td>\n",
       "      <td>4</td>\n",
       "      <td>CI24915</td>\n",
       "    </tr>\n",
       "    <tr>\n",
       "      <th>4</th>\n",
       "      <td>4577_5</td>\n",
       "      <td>4577</td>\n",
       "      <td>5</td>\n",
       "      <td>CI23714</td>\n",
       "    </tr>\n",
       "  </tbody>\n",
       "</table>\n",
       "</div>"
      ],
      "text/plain": [
       "  user_sequence  user_id  challenge_sequence challenge\n",
       "0        4577_1     4577                   1   CI23855\n",
       "1        4577_2     4577                   2   CI23933\n",
       "2        4577_3     4577                   3   CI24917\n",
       "3        4577_4     4577                   4   CI24915\n",
       "4        4577_5     4577                   5   CI23714"
      ]
     },
     "execution_count": 5,
     "metadata": {},
     "output_type": "execute_result"
    }
   ],
   "source": [
    "df_test = pd.read_csv('test.csv')\n",
    "df_test.head()"
   ]
  },
  {
   "cell_type": "code",
   "execution_count": 6,
   "metadata": {},
   "outputs": [
    {
     "data": {
      "text/plain": [
       "(397320, 4)"
      ]
     },
     "execution_count": 6,
     "metadata": {},
     "output_type": "execute_result"
    }
   ],
   "source": [
    "df_test.shape"
   ]
  },
  {
   "cell_type": "code",
   "execution_count": 7,
   "metadata": {},
   "outputs": [
    {
     "data": {
      "text/plain": [
       "(1301236, 4)"
      ]
     },
     "execution_count": 7,
     "metadata": {},
     "output_type": "execute_result"
    }
   ],
   "source": [
    "train = df_train.append(df_test)\n",
    "train.shape"
   ]
  },
  {
   "cell_type": "code",
   "execution_count": 8,
   "metadata": {},
   "outputs": [
    {
     "data": {
      "text/html": [
       "<div>\n",
       "<style scoped>\n",
       "    .dataframe tbody tr th:only-of-type {\n",
       "        vertical-align: middle;\n",
       "    }\n",
       "\n",
       "    .dataframe tbody tr th {\n",
       "        vertical-align: top;\n",
       "    }\n",
       "\n",
       "    .dataframe thead th {\n",
       "        text-align: right;\n",
       "    }\n",
       "</style>\n",
       "<table border=\"1\" class=\"dataframe\">\n",
       "  <thead>\n",
       "    <tr style=\"text-align: right;\">\n",
       "      <th></th>\n",
       "      <th>user_id</th>\n",
       "      <th>challenge</th>\n",
       "      <th>rating</th>\n",
       "    </tr>\n",
       "  </thead>\n",
       "  <tbody>\n",
       "    <tr>\n",
       "      <th>0</th>\n",
       "      <td>4576</td>\n",
       "      <td>CI23714</td>\n",
       "      <td>1</td>\n",
       "    </tr>\n",
       "    <tr>\n",
       "      <th>1</th>\n",
       "      <td>4576</td>\n",
       "      <td>CI23855</td>\n",
       "      <td>1</td>\n",
       "    </tr>\n",
       "    <tr>\n",
       "      <th>2</th>\n",
       "      <td>4576</td>\n",
       "      <td>CI24917</td>\n",
       "      <td>1</td>\n",
       "    </tr>\n",
       "    <tr>\n",
       "      <th>3</th>\n",
       "      <td>4576</td>\n",
       "      <td>CI23663</td>\n",
       "      <td>1</td>\n",
       "    </tr>\n",
       "    <tr>\n",
       "      <th>4</th>\n",
       "      <td>4576</td>\n",
       "      <td>CI23933</td>\n",
       "      <td>1</td>\n",
       "    </tr>\n",
       "  </tbody>\n",
       "</table>\n",
       "</div>"
      ],
      "text/plain": [
       "   user_id challenge  rating\n",
       "0     4576   CI23714       1\n",
       "1     4576   CI23855       1\n",
       "2     4576   CI24917       1\n",
       "3     4576   CI23663       1\n",
       "4     4576   CI23933       1"
      ]
     },
     "execution_count": 8,
     "metadata": {},
     "output_type": "execute_result"
    }
   ],
   "source": [
    "cols = ['user_sequence','challenge_sequence']\n",
    "train.drop(cols,axis=1,inplace=True)\n",
    "train['rating']=1\n",
    "train.head()"
   ]
  },
  {
   "cell_type": "code",
   "execution_count": 9,
   "metadata": {},
   "outputs": [],
   "source": [
    "from surprise import Reader, Dataset"
   ]
  },
  {
   "cell_type": "code",
   "execution_count": 10,
   "metadata": {},
   "outputs": [],
   "source": [
    "ratings_dict = {'itemID': list(train.challenge),\n",
    "                'userID': list(train.user_id),\n",
    "                'rating': list(train.rating)}\n",
    "df = pd.DataFrame(ratings_dict)"
   ]
  },
  {
   "cell_type": "code",
   "execution_count": 11,
   "metadata": {},
   "outputs": [],
   "source": [
    "reader = Reader(rating_scale=(-0.1, 1.0))"
   ]
  },
  {
   "cell_type": "code",
   "execution_count": 12,
   "metadata": {},
   "outputs": [],
   "source": [
    "data = Dataset.load_from_df(df[['userID', 'itemID', 'rating']], reader)"
   ]
  },
  {
   "cell_type": "code",
   "execution_count": 14,
   "metadata": {},
   "outputs": [
    {
     "name": "stdout",
     "output_type": "stream",
     "text": [
      "Evaluating RMSE, MAE of algorithm SVD on 5 split(s).\n",
      "\n",
      "                  Fold 1  Fold 2  Fold 3  Fold 4  Fold 5  Mean    Std     \n",
      "RMSE (testset)    0.0226  0.0226  0.0227  0.0225  0.0227  0.0226  0.0001  \n",
      "MAE (testset)     0.0078  0.0078  0.0078  0.0078  0.0078  0.0078  0.0000  \n",
      "Fit time          69.38   62.42   63.00   63.45   73.46   66.34   4.36    \n",
      "Test time         2.59    2.33    2.31    2.70    2.55    2.50    0.15    \n"
     ]
    },
    {
     "data": {
      "text/plain": [
       "{'test_rmse': array([0.022581, 0.022572, 0.022667, 0.022457, 0.022661]),\n",
       " 'test_mae': array([0.007815, 0.007793, 0.007836, 0.007802, 0.007832]),\n",
       " 'fit_time': (69.3848488330841,\n",
       "  62.41615414619446,\n",
       "  62.995245695114136,\n",
       "  63.44920063018799,\n",
       "  73.46149206161499),\n",
       " 'test_time': (2.589520215988159,\n",
       "  2.329153060913086,\n",
       "  2.311291217803955,\n",
       "  2.701282024383545,\n",
       "  2.551966428756714)}"
      ]
     },
     "execution_count": 14,
     "metadata": {},
     "output_type": "execute_result"
    }
   ],
   "source": [
    "from surprise.model_selection import cross_validate\n",
    "from surprise import SVD\n",
    "from surprise import NMF\n",
    "\n",
    "# svd\n",
    "algo_1 = SVD()\n",
    "cross_validate(algo_1, data, measures=['RMSE', 'MAE'], cv=5, verbose=True)\n"
   ]
  },
  {
   "cell_type": "code",
   "execution_count": 16,
   "metadata": {},
   "outputs": [
    {
     "name": "stdout",
     "output_type": "stream",
     "text": [
      "Evaluating RMSE, MAE of algorithm NMF on 5 split(s).\n",
      "\n",
      "                  Fold 1  Fold 2  Fold 3  Fold 4  Fold 5  Mean    Std     \n",
      "RMSE (testset)    0.0612  0.0612  0.0615  0.0614  0.0614  0.0613  0.0001  \n",
      "MAE (testset)     0.0611  0.0611  0.0613  0.0612  0.0612  0.0612  0.0001  \n",
      "Fit time          81.42   82.40   83.12   81.50   74.53   80.59   3.09    \n",
      "Test time         2.44    2.38    2.39    2.31    2.86    2.47    0.20    \n"
     ]
    },
    {
     "data": {
      "text/plain": [
       "{'test_rmse': array([0.061202, 0.061238, 0.061451, 0.061358, 0.061357]),\n",
       " 'test_mae': array([0.061052, 0.061082, 0.061287, 0.061208, 0.061192]),\n",
       " 'fit_time': (81.42433428764343,\n",
       "  82.39827370643616,\n",
       "  83.11579728126526,\n",
       "  81.49846768379211,\n",
       "  74.53083348274231),\n",
       " 'test_time': (2.436321496963501,\n",
       "  2.377495527267456,\n",
       "  2.386823892593384,\n",
       "  2.308434009552002,\n",
       "  2.859050989151001)}"
      ]
     },
     "execution_count": 16,
     "metadata": {},
     "output_type": "execute_result"
    }
   ],
   "source": [
    "# nmf\n",
    "algo_2 = NMF()\n",
    "cross_validate(algo_2, data, measures=['RMSE', 'MAE'], cv=5, verbose=True)"
   ]
  },
  {
   "cell_type": "code",
   "execution_count": null,
   "metadata": {},
   "outputs": [],
   "source": [
    "from surprise.model_selection import train_test_split\n",
    "trainset, testset = train_test_split(data, test_size=0.25)\n",
    "predictions = algo_1.fit(trainset).test(testset)"
   ]
  },
  {
   "cell_type": "code",
   "execution_count": 20,
   "metadata": {},
   "outputs": [
    {
     "name": "stdout",
     "output_type": "stream",
     "text": [
      "RMSE: 0.0233\n"
     ]
    },
    {
     "data": {
      "text/plain": [
       "0.023311471117247105"
      ]
     },
     "execution_count": 20,
     "metadata": {},
     "output_type": "execute_result"
    }
   ],
   "source": [
    "from surprise import accuracy\n",
    "accuracy.rmse(predictions)"
   ]
  },
  {
   "cell_type": "code",
   "execution_count": null,
   "metadata": {},
   "outputs": [],
   "source": [
    "trainset = data.build_full_trainset()"
   ]
  },
  {
   "cell_type": "code",
   "execution_count": 26,
   "metadata": {},
   "outputs": [
    {
     "ename": "MemoryError",
     "evalue": "",
     "output_type": "error",
     "traceback": [
      "\u001b[1;31m---------------------------------------------------------------------------\u001b[0m",
      "\u001b[1;31mMemoryError\u001b[0m                               Traceback (most recent call last)",
      "\u001b[1;32m<ipython-input-26-44692e79331a>\u001b[0m in \u001b[0;36m<module>\u001b[1;34m\u001b[0m\n\u001b[0;32m      1\u001b[0m \u001b[0mtestset\u001b[0m \u001b[1;33m=\u001b[0m \u001b[0mtrainset\u001b[0m\u001b[1;33m.\u001b[0m\u001b[0mbuild_anti_testset\u001b[0m\u001b[1;33m(\u001b[0m\u001b[1;33m)\u001b[0m\u001b[1;33m\u001b[0m\u001b[1;33m\u001b[0m\u001b[0m\n\u001b[1;32m----> 2\u001b[1;33m \u001b[0mpredictions\u001b[0m \u001b[1;33m=\u001b[0m \u001b[0malgo_1\u001b[0m\u001b[1;33m.\u001b[0m\u001b[0mtest\u001b[0m\u001b[1;33m(\u001b[0m\u001b[0mtestset\u001b[0m\u001b[1;33m)\u001b[0m\u001b[1;33m\u001b[0m\u001b[1;33m\u001b[0m\u001b[0m\n\u001b[0m",
      "\u001b[1;32m~\\AppData\\Local\\Continuum\\anaconda3\\lib\\site-packages\\surprise\\prediction_algorithms\\algo_base.py\u001b[0m in \u001b[0;36mtest\u001b[1;34m(self, testset, verbose)\u001b[0m\n\u001b[0;32m    165\u001b[0m                                     \u001b[0mr_ui_trans\u001b[0m\u001b[1;33m,\u001b[0m\u001b[1;33m\u001b[0m\u001b[1;33m\u001b[0m\u001b[0m\n\u001b[0;32m    166\u001b[0m                                     verbose=verbose)\n\u001b[1;32m--> 167\u001b[1;33m                        for (uid, iid, r_ui_trans) in testset]\n\u001b[0m\u001b[0;32m    168\u001b[0m         \u001b[1;32mreturn\u001b[0m \u001b[0mpredictions\u001b[0m\u001b[1;33m\u001b[0m\u001b[1;33m\u001b[0m\u001b[0m\n\u001b[0;32m    169\u001b[0m \u001b[1;33m\u001b[0m\u001b[0m\n",
      "\u001b[1;32m~\\AppData\\Local\\Continuum\\anaconda3\\lib\\site-packages\\surprise\\prediction_algorithms\\algo_base.py\u001b[0m in \u001b[0;36m<listcomp>\u001b[1;34m(.0)\u001b[0m\n\u001b[0;32m    165\u001b[0m                                     \u001b[0mr_ui_trans\u001b[0m\u001b[1;33m,\u001b[0m\u001b[1;33m\u001b[0m\u001b[1;33m\u001b[0m\u001b[0m\n\u001b[0;32m    166\u001b[0m                                     verbose=verbose)\n\u001b[1;32m--> 167\u001b[1;33m                        for (uid, iid, r_ui_trans) in testset]\n\u001b[0m\u001b[0;32m    168\u001b[0m         \u001b[1;32mreturn\u001b[0m \u001b[0mpredictions\u001b[0m\u001b[1;33m\u001b[0m\u001b[1;33m\u001b[0m\u001b[0m\n\u001b[0;32m    169\u001b[0m \u001b[1;33m\u001b[0m\u001b[0m\n",
      "\u001b[1;31mMemoryError\u001b[0m: "
     ]
    }
   ],
   "source": [
    "testset = trainset.build_anti_testset()\n",
    "predictions = algo_1.test(testset)"
   ]
  },
  {
   "cell_type": "code",
   "execution_count": null,
   "metadata": {},
   "outputs": [],
   "source": []
  }
 ],
 "metadata": {
  "kernelspec": {
   "display_name": "Python 3",
   "language": "python",
   "name": "python3"
  },
  "language_info": {
   "codemirror_mode": {
    "name": "ipython",
    "version": 3
   },
   "file_extension": ".py",
   "mimetype": "text/x-python",
   "name": "python",
   "nbconvert_exporter": "python",
   "pygments_lexer": "ipython3",
   "version": "3.6.8"
  }
 },
 "nbformat": 4,
 "nbformat_minor": 2
}
